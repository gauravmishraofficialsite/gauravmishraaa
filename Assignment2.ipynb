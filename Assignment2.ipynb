{
 "cells": [
  {
   "cell_type": "code",
   "execution_count": null,
   "id": "b2be881c-65c5-4782-b349-10785144df48",
   "metadata": {},
   "outputs": [],
   "source": [
    "#Write a function that takes input from user and return data entered by user as a list your function should insure that value given by user are integer "
   ]
  },
  {
   "cell_type": "code",
   "execution_count": 1,
   "id": "6078e5d1-2884-4fd3-8224-391558238e41",
   "metadata": {},
   "outputs": [
    {
     "name": "stdin",
     "output_type": "stream",
     "text": [
      "Enter the size of the list:  3\n",
      "Enter integer 1:  3\n",
      "Enter integer 2:  5\n",
      "Enter integer 3:  8\n"
     ]
    },
    {
     "name": "stdout",
     "output_type": "stream",
     "text": [
      "The list is: [3, 5, 8]\n"
     ]
    }
   ],
   "source": [
    "def get_integer_list(n):\n",
    "    integer_list = []\n",
    "    for i in range(n):\n",
    "        while True:\n",
    "            try:\n",
    "                integer = int(input(f\"Enter integer {i+1}: \"))\n",
    "                integer_list.append(integer)\n",
    "                break\n",
    "            except ValueError:\n",
    "                print(\"Invalid input! Please enter a valid integer.\")\n",
    "    return integer_list\n",
    "\n",
    "n = int(input(\"Enter the size of the list: \"))\n",
    "result = get_integer_list(n)\n",
    "print(\"The list is:\", result)\n"
   ]
  },
  {
   "cell_type": "code",
   "execution_count": 17,
   "id": "ada1a588-a53e-449f-b7ac-e20450922f8a",
   "metadata": {},
   "outputs": [
    {
     "name": "stdin",
     "output_type": "stream",
     "text": [
      "Enter the size of the list:  5\n",
      "Enter integer 1:  3\n",
      "Enter integer 2:  4\n",
      "Enter integer 3:  5\n",
      "Enter integer 4:  6\n",
      "Enter integer 5:  7\n"
     ]
    },
    {
     "name": "stdout",
     "output_type": "stream",
     "text": [
      "Statistics:\n",
      "Sum: 25\n",
      "Average: 5.0\n",
      "Minimum: 3\n",
      "Maximum: 7\n",
      "Cumulative Sum: [3, 7, 12, 18, 25]\n"
     ]
    }
   ],
   "source": [
    "def compute_statistics(numbers):\n",
    "    sum_numbers = sum(numbers)\n",
    "    average = sum_numbers / len(numbers)\n",
    "    min_number = min(numbers)\n",
    "    max_number = max(numbers)\n",
    "    cumulative_sum = [sum(numbers[:i+1]) for i in range(len(numbers))]\n",
    "    return {\n",
    "        'sum': sum_numbers,\n",
    "        'average': average,\n",
    "        'min': min_number,\n",
    "        'max': max_number,\n",
    "        'cumulative_sum': cumulative_sum\n",
    "    }\n",
    "def get_integer_list(n):\n",
    "    return [int(input(f\"Enter integer {i+1}: \")) for i in range(n)]\n",
    "\n",
    "n = int(input(\"Enter the size of the list: \"))\n",
    "numbers = get_integer_list(n)\n",
    "result = compute_statistics(numbers)\n",
    "\n",
    "print(\"Statistics:\")\n",
    "print(f\"Sum: {result['sum']}\")\n",
    "print(f\"Average: {result['average']}\")\n",
    "print(f\"Minimum: {result['min']}\")\n",
    "print(f\"Maximum: {result['max']}\")\n",
    "print(f\"Cumulative Sum: {result['cumulative_sum']}\")\n"
   ]
  },
  {
   "cell_type": "code",
   "execution_count": null,
   "id": "0d2e6013-3755-42c1-91cd-eb63e2d750a7",
   "metadata": {},
   "outputs": [],
   "source": []
  }
 ],
 "metadata": {
  "kernelspec": {
   "display_name": "Python 3 (ipykernel)",
   "language": "python",
   "name": "python3"
  },
  "language_info": {
   "codemirror_mode": {
    "name": "ipython",
    "version": 3
   },
   "file_extension": ".py",
   "mimetype": "text/x-python",
   "name": "python",
   "nbconvert_exporter": "python",
   "pygments_lexer": "ipython3",
   "version": "3.12.4"
  }
 },
 "nbformat": 4,
 "nbformat_minor": 5
}
